{
 "cells": [
  {
   "cell_type": "markdown",
   "metadata": {
    "slideshow": {
     "slide_type": "slide"
    }
   },
   "source": [
    "# Explainable AI\n",
    "\n",
    "\n",
    "\n",
    "\n",
    "\n",
    "\n",
    "\n",
    "\n",
    "\n",
    "\n",
    "**Ariel Rossanigo**\n",
    "\n",
    "git clone git@github.com:arielrossanigo/ ??"
   ]
  },
  {
   "cell_type": "markdown",
   "metadata": {
    "slideshow": {
     "slide_type": "slide"
    }
   },
   "source": [
    "### Quien soy?\n",
    "\n",
    "* Ariel Rossanigo\n",
    "* Artificial Intelligence teacher at UCSE-DAR\n",
    "* Developer, Data Scientist\n",
    "* Co-Founder of Bloom AI"
   ]
  },
  {
   "cell_type": "markdown",
   "metadata": {
    "slideshow": {
     "slide_type": "slide"
    }
   },
   "source": [
    "### Explainable / Interpretable AI\n",
    "\n",
    "https://christophm.github.io/interpretable-ml-book/\n",
    "\n",
    "\n",
    "\n",
    "#### *Interpretability is the degree to which a human can understand the cause of a decision.*\n",
    "\n",
    "#### *Interpretability is the degree to which a human can consistently predict the model's result* \n",
    "\n"
   ]
  },
  {
   "cell_type": "markdown",
   "metadata": {
    "slideshow": {
     "slide_type": "slide"
    }
   },
   "source": [
    "### Modelos interpretables en su naturaleza\n",
    "\n",
    "\n",
    "| Algorithm\t| Linear | Monotone| Interaction | Task |\n",
    "| --- | --- | --- | --- | --- |\n",
    "| Linear regression | Yes| Yes | No | regr | \n",
    "| Logistic regression | No  |  Yes | No  | class |\n",
    "| Decision trees | No | Some | Yes | class,regr |\n",
    "\n",
    "Hay más...\n"
   ]
  },
  {
   "cell_type": "code",
   "execution_count": null,
   "metadata": {
    "ExecuteTime": {
     "end_time": "2021-05-24T22:11:27.522757Z",
     "start_time": "2021-05-24T22:11:25.579503Z"
    },
    "slideshow": {
     "slide_type": "skip"
    }
   },
   "outputs": [],
   "source": [
    "%matplotlib inline\n",
    "%load_ext autoreload\n",
    "%autoreload 2\n",
    "import warnings\n",
    "warnings.filterwarnings('ignore')\n",
    "\n",
    "import eli5\n",
    "import shap\n",
    "shap.initjs()\n",
    "\n",
    "import pandas as pd\n",
    "import numpy as np\n",
    "from zipfile import ZipFile\n",
    "\n",
    "from sklearn_pandas import DataFrameMapper"
   ]
  },
  {
   "cell_type": "code",
   "execution_count": null,
   "metadata": {
    "ExecuteTime": {
     "end_time": "2021-05-24T22:11:27.576309Z",
     "start_time": "2021-05-24T22:11:27.524357Z"
    }
   },
   "outputs": [],
   "source": [
    "with ZipFile('Bike-Sharing-Dataset.zip') as myzip:\n",
    "    by_day = pd.read_csv(myzip.open('day.csv'))\n",
    "    by_hour = pd.read_csv(myzip.open('hour.csv'))\n",
    "    lines = myzip.open('Readme.txt').readlines()"
   ]
  },
  {
   "cell_type": "code",
   "execution_count": null,
   "metadata": {
    "ExecuteTime": {
     "end_time": "2021-05-24T22:11:27.596712Z",
     "start_time": "2021-05-24T22:11:27.578077Z"
    },
    "scrolled": false
   },
   "outputs": [],
   "source": [
    "for i, line in enumerate(lines[59:85]): \n",
    "    line = line.decode('ascii').strip()\n",
    "    print(line)"
   ]
  },
  {
   "cell_type": "code",
   "execution_count": null,
   "metadata": {
    "ExecuteTime": {
     "end_time": "2021-05-24T22:11:27.615427Z",
     "start_time": "2021-05-24T22:11:27.598439Z"
    }
   },
   "outputs": [],
   "source": [
    "season_names = {\n",
    "    1: 'springer',\n",
    "    2: 'summer',\n",
    "    3: 'fall',\n",
    "    4: 'winter',\n",
    "}"
   ]
  },
  {
   "cell_type": "code",
   "execution_count": null,
   "metadata": {
    "ExecuteTime": {
     "end_time": "2021-05-24T22:11:27.650422Z",
     "start_time": "2021-05-24T22:11:27.617864Z"
    }
   },
   "outputs": [],
   "source": [
    "by_hour.head()"
   ]
  },
  {
   "cell_type": "code",
   "execution_count": null,
   "metadata": {
    "ExecuteTime": {
     "end_time": "2021-05-24T22:11:27.669582Z",
     "start_time": "2021-05-24T22:11:27.652043Z"
    }
   },
   "outputs": [],
   "source": [
    "from sklearn.preprocessing import OneHotEncoder, StandardScaler\n",
    "from sklearn.model_selection import train_test_split"
   ]
  },
  {
   "cell_type": "code",
   "execution_count": null,
   "metadata": {
    "ExecuteTime": {
     "end_time": "2021-05-24T22:11:27.705353Z",
     "start_time": "2021-05-24T22:11:27.671356Z"
    }
   },
   "outputs": [],
   "source": [
    "features = DataFrameMapper([\n",
    "    ('season', None),\n",
    "    ('yr', None),\n",
    "    ('mnth', None),\n",
    "    ('hr', None),\n",
    "    ('holiday', None),\n",
    "    ('weekday', None),\n",
    "    ('workingday', None),\n",
    "    ('weathersit', None),\n",
    "    ('temp', None),\n",
    "    ('atemp', None),\n",
    "    ('hum', None),\n",
    "    ('windspeed', None),\n",
    "], df_out=False)\n",
    "\n",
    "# features.fit_transform(by_hour)\n",
    "# features.transformed_names_"
   ]
  },
  {
   "cell_type": "code",
   "execution_count": null,
   "metadata": {
    "ExecuteTime": {
     "end_time": "2021-05-24T22:11:27.750551Z",
     "start_time": "2021-05-24T22:11:27.709243Z"
    }
   },
   "outputs": [],
   "source": [
    "train, test = train_test_split(by_hour, test_size=0.3, random_state=42)\n",
    "train = train.reset_index(drop=True).copy()\n",
    "test = test.reset_index(drop=True).copy()\n"
   ]
  },
  {
   "cell_type": "code",
   "execution_count": null,
   "metadata": {
    "ExecuteTime": {
     "end_time": "2021-05-24T22:11:27.770755Z",
     "start_time": "2021-05-24T22:11:27.753300Z"
    }
   },
   "outputs": [],
   "source": [
    "from sklearn.tree import DecisionTreeRegressor\n",
    "from sklearn import metrics"
   ]
  },
  {
   "cell_type": "code",
   "execution_count": null,
   "metadata": {
    "ExecuteTime": {
     "end_time": "2021-05-24T22:11:27.794737Z",
     "start_time": "2021-05-24T22:11:27.772199Z"
    }
   },
   "outputs": [],
   "source": [
    "features.fit(train)\n",
    "X_train = features.transform(train)\n",
    "y_train = train.cnt.values\n",
    "\n",
    "features_names = features.transformed_names_\n",
    "\n",
    "X_test = features.transform(test)\n",
    "y_test = test.cnt.values"
   ]
  },
  {
   "cell_type": "code",
   "execution_count": null,
   "metadata": {
    "ExecuteTime": {
     "end_time": "2021-05-24T22:11:27.814666Z",
     "start_time": "2021-05-24T22:11:27.796312Z"
    }
   },
   "outputs": [],
   "source": [
    "def show_error(model):\n",
    "    err_train = metrics.mean_squared_error(y_train, model.predict(X_train), squared=False)\n",
    "    err_test = metrics.mean_squared_error(y_test, model.predict(X_test), squared=False)\n",
    "    print(f\"RMSE train: {err_train:.2f}\")\n",
    "    print(f\"RMSE test: {err_test:.2f}\")"
   ]
  },
  {
   "cell_type": "code",
   "execution_count": null,
   "metadata": {
    "ExecuteTime": {
     "end_time": "2021-05-24T22:11:27.852615Z",
     "start_time": "2021-05-24T22:11:27.816450Z"
    }
   },
   "outputs": [],
   "source": [
    "from dtreeviz.trees import *"
   ]
  },
  {
   "cell_type": "code",
   "execution_count": null,
   "metadata": {
    "ExecuteTime": {
     "end_time": "2021-05-24T22:11:27.892715Z",
     "start_time": "2021-05-24T22:11:27.854127Z"
    }
   },
   "outputs": [],
   "source": [
    "the_tree = DecisionTreeRegressor(max_depth=4)\n",
    "the_tree.fit(X_train, y_train)\n",
    "print('Depth:', the_tree.get_depth())\n",
    "show_error(the_tree)"
   ]
  },
  {
   "cell_type": "code",
   "execution_count": null,
   "metadata": {
    "ExecuteTime": {
     "end_time": "2021-05-24T22:11:27.911839Z",
     "start_time": "2021-05-24T22:11:27.894464Z"
    }
   },
   "outputs": [],
   "source": [
    "X_sample, _, y_sample, _ = train_test_split(X_test, y_test, train_size=1000)"
   ]
  },
  {
   "cell_type": "code",
   "execution_count": null,
   "metadata": {
    "ExecuteTime": {
     "end_time": "2021-05-24T22:11:31.150008Z",
     "start_time": "2021-05-24T22:11:27.913163Z"
    }
   },
   "outputs": [],
   "source": [
    "viz = dtreeviz(the_tree, X_sample, y_sample, target_name='# rental bikes', feature_names=features_names, \n",
    "               orientation ='LR')\n",
    "viz.view()"
   ]
  },
  {
   "cell_type": "code",
   "execution_count": null,
   "metadata": {
    "ExecuteTime": {
     "end_time": "2021-05-24T22:11:31.478227Z",
     "start_time": "2021-05-24T22:11:31.151843Z"
    }
   },
   "outputs": [],
   "source": [
    "viz_leaf_target(the_tree, X_sample, y_sample, target_name='# rental bikes', feature_names=features_names, \n",
    "                figsize=(15, 8))"
   ]
  },
  {
   "cell_type": "code",
   "execution_count": null,
   "metadata": {
    "ExecuteTime": {
     "end_time": "2021-05-24T22:11:31.499191Z",
     "start_time": "2021-05-24T22:11:31.479442Z"
    }
   },
   "outputs": [],
   "source": [
    "test['leaves'] = the_tree.apply(X_test)\n",
    "test.groupby('leaves').cnt.mean().round(0).sort_values()"
   ]
  },
  {
   "cell_type": "code",
   "execution_count": null,
   "metadata": {
    "ExecuteTime": {
     "end_time": "2021-05-24T22:11:31.520921Z",
     "start_time": "2021-05-24T22:11:31.500388Z"
    }
   },
   "outputs": [],
   "source": [
    "leaf = 11\n",
    "case = test[test.leaves==leaf].head(1).index[0]\n",
    "print(explain_prediction_path(the_tree, X_test[case], y_test[case], \n",
    "                              target_name='# rental bikes', feature_names=features_names))"
   ]
  },
  {
   "cell_type": "markdown",
   "metadata": {
    "ExecuteTime": {
     "end_time": "2020-11-06T10:24:43.123488Z",
     "start_time": "2020-11-06T10:24:43.097329Z"
    },
    "slideshow": {
     "slide_type": "slide"
    }
   },
   "source": [
    "#### Advantages\n",
    "\n",
    "* capturing interactions \n",
    "* distinct groups \n",
    "* natural visualization\n",
    "* create good explanations\n",
    "\n",
    "#### Disadvantages\n",
    "\n",
    "* Trees fail to deal with linear relationships\n",
    "* lack of smoothness\n",
    "* unstable\n",
    "* The number of terminal nodes increases quickly with depth."
   ]
  },
  {
   "cell_type": "markdown",
   "metadata": {
    "slideshow": {
     "slide_type": "slide"
    }
   },
   "source": [
    "### Model Agnostic Methods\n",
    "\n",
    "#### Partial dependence plots\n"
   ]
  },
  {
   "cell_type": "code",
   "execution_count": null,
   "metadata": {
    "ExecuteTime": {
     "end_time": "2021-05-24T22:11:31.563534Z",
     "start_time": "2021-05-24T22:11:31.522467Z"
    }
   },
   "outputs": [],
   "source": [
    "from sklearn.inspection import plot_partial_dependence\n",
    "from lightgbm import LGBMRegressor\n",
    "from xgboost import XGBRegressor"
   ]
  },
  {
   "cell_type": "code",
   "execution_count": null,
   "metadata": {
    "ExecuteTime": {
     "end_time": "2021-05-24T22:11:32.332425Z",
     "start_time": "2021-05-24T22:11:31.565023Z"
    }
   },
   "outputs": [],
   "source": [
    "clf = XGBRegressor()\n",
    "clf.fit(X_train, y_train)\n",
    "show_error(clf)"
   ]
  },
  {
   "cell_type": "code",
   "execution_count": null,
   "metadata": {
    "ExecuteTime": {
     "end_time": "2021-05-24T22:11:32.356974Z",
     "start_time": "2021-05-24T22:11:32.338623Z"
    }
   },
   "outputs": [],
   "source": [
    "import matplotlib.pyplot as plt"
   ]
  },
  {
   "cell_type": "code",
   "execution_count": null,
   "metadata": {
    "ExecuteTime": {
     "end_time": "2021-05-24T22:11:32.447508Z",
     "start_time": "2021-05-24T22:11:32.358273Z"
    }
   },
   "outputs": [],
   "source": [
    "clf.feature_importances_"
   ]
  },
  {
   "cell_type": "code",
   "execution_count": null,
   "metadata": {
    "ExecuteTime": {
     "end_time": "2021-05-24T22:11:53.915991Z",
     "start_time": "2021-05-24T22:11:32.450261Z"
    }
   },
   "outputs": [],
   "source": [
    "features = [3, 8, (3, 8)]\n",
    "fig, ax = plt.subplots(1, 1, figsize=(15, 6))\n",
    "plot_partial_dependence(clf, X_train, features, ax=ax, feature_names=features_names);"
   ]
  },
  {
   "cell_type": "code",
   "execution_count": null,
   "metadata": {
    "ExecuteTime": {
     "end_time": "2021-05-24T22:11:54.212753Z",
     "start_time": "2021-05-24T22:11:53.918004Z"
    }
   },
   "outputs": [],
   "source": [
    "sorted_idx = clf.feature_importances_.argsort()\n",
    "plt.barh(np.array(features_names)[sorted_idx], clf.feature_importances_[sorted_idx])\n",
    "plt.xlabel(\"Xgboost Feature Importance\");"
   ]
  },
  {
   "cell_type": "code",
   "execution_count": null,
   "metadata": {
    "ExecuteTime": {
     "end_time": "2021-05-24T22:11:54.305094Z",
     "start_time": "2021-05-24T22:11:54.214211Z"
    }
   },
   "outputs": [],
   "source": [
    "booster = clf.get_booster()\n",
    "booster.get_score(importance_type='gain')"
   ]
  },
  {
   "cell_type": "markdown",
   "metadata": {
    "slideshow": {
     "slide_type": "slide"
    }
   },
   "source": [
    "* **weight**: the number of times a feature is used to split the data across all trees.\n",
    "* **gain**: the average gain across all splits the feature is used in.\n",
    "* **cover**: the average coverage across all splits the feature is used in.\n",
    "* **total_gain**: the total gain across all splits the feature is used in.\n",
    "* **total_cover**: the total coverage across all splits the feature is used in."
   ]
  },
  {
   "cell_type": "markdown",
   "metadata": {
    "slideshow": {
     "slide_type": "slide"
    }
   },
   "source": [
    "### Permutation feature importance\n",
    "\n",
    "* Viene incluido en sklearn (https://scikit-learn.org/stable/modules/permutation_importance.html)\n",
    "\n",
    "$$i_j = s - \\frac{1}{K} \\sum_{k=1}^{K} s_{k,j}$$\n",
    "\n",
    "* Vamos a usar eli5 que ya trae algunas cosas implementadas"
   ]
  },
  {
   "cell_type": "code",
   "execution_count": null,
   "metadata": {
    "ExecuteTime": {
     "end_time": "2021-05-24T22:11:54.323563Z",
     "start_time": "2021-05-24T22:11:54.306467Z"
    }
   },
   "outputs": [],
   "source": [
    "from eli5.sklearn import PermutationImportance"
   ]
  },
  {
   "cell_type": "code",
   "execution_count": null,
   "metadata": {
    "ExecuteTime": {
     "end_time": "2021-05-24T22:11:55.623972Z",
     "start_time": "2021-05-24T22:11:54.324780Z"
    }
   },
   "outputs": [],
   "source": [
    "perm = PermutationImportance(clf, scoring='neg_mean_squared_error', random_state=1, cv=\"prefit\")\n",
    "perm.fit(X_train, y_train)\n",
    "eli5.show_weights(perm, feature_names=features_names)"
   ]
  },
  {
   "cell_type": "code",
   "execution_count": null,
   "metadata": {
    "ExecuteTime": {
     "end_time": "2021-05-24T22:11:55.650509Z",
     "start_time": "2021-05-24T22:11:55.626085Z"
    }
   },
   "outputs": [],
   "source": [
    "# test.groupby('hr').cnt.mean()\n",
    "# test.iloc[25]"
   ]
  },
  {
   "cell_type": "code",
   "execution_count": null,
   "metadata": {
    "ExecuteTime": {
     "end_time": "2021-05-24T22:11:55.926771Z",
     "start_time": "2021-05-24T22:11:55.651924Z"
    }
   },
   "outputs": [],
   "source": [
    "eli5.show_prediction(clf, X_test[25], show_feature_values=True, feature_names=features_names)"
   ]
  },
  {
   "cell_type": "markdown",
   "metadata": {
    "slideshow": {
     "slide_type": "slide"
    }
   },
   "source": [
    "### Global surrogate model\n",
    "\n",
    "* Entrenar un predictor explicable para que prediga los outputs de nuestro black box\n",
    "\n",
    "#### Ventajas\n",
    "\n",
    "* Es simple e intuitivo\n",
    "\n",
    "#### Desventajas\n",
    "\n",
    "* conclusions about the model and not about the data\n",
    "* cut-off for *score being used*\n",
    "* close for one subset of the dataset, but widely divergent for another subset"
   ]
  },
  {
   "cell_type": "markdown",
   "metadata": {
    "slideshow": {
     "slide_type": "slide"
    }
   },
   "source": [
    "###  Local Surrogate (LIME)\n",
    "\n",
    "*Local interpretable model-agnostic explanations*\n",
    "\n",
    "The recipe for training local surrogate models:\n",
    "\n",
    "* Select your instance of interest for which you want to have an explanation of its black box prediction.\n",
    "* Perturb your dataset and get the black box predictions for these new points.\n",
    "* Weight the new samples according to their proximity to the instance of interest.\n",
    "* Train a weighted, interpretable model on the dataset with the variations.\n",
    "* Explain the prediction by interpreting the local model."
   ]
  },
  {
   "cell_type": "code",
   "execution_count": null,
   "metadata": {
    "ExecuteTime": {
     "end_time": "2021-05-24T22:11:55.949029Z",
     "start_time": "2021-05-24T22:11:55.928338Z"
    }
   },
   "outputs": [],
   "source": [
    "import lime\n",
    "import lime.lime_tabular\n",
    "from lime.lime_tabular import LimeTabularExplainer"
   ]
  },
  {
   "cell_type": "code",
   "execution_count": null,
   "metadata": {
    "ExecuteTime": {
     "end_time": "2021-05-24T22:11:55.967475Z",
     "start_time": "2021-05-24T22:11:55.950179Z"
    }
   },
   "outputs": [],
   "source": [
    "categorical_features = ['season', 'yr', 'mnth', 'hr', 'holiday', 'weekday', 'workingday', 'weathersit']"
   ]
  },
  {
   "cell_type": "code",
   "execution_count": null,
   "metadata": {
    "ExecuteTime": {
     "end_time": "2021-05-24T22:11:59.891103Z",
     "start_time": "2021-05-24T22:11:55.968717Z"
    }
   },
   "outputs": [],
   "source": [
    "explainer = LimeTabularExplainer(X_train, # no anda con pandas...\n",
    "                                 feature_names=features_names, \n",
    "                                 class_names=['# rental bikes'], \n",
    "                                 categorical_features=categorical_features, \n",
    "                                 verbose=True, \n",
    "                                 mode='regression')\n",
    "\n",
    "i = 25\n",
    "exp = explainer.explain_instance(X_test[i], clf.predict, num_features=5)\n",
    "\n",
    "exp.show_in_notebook(show_table=True)"
   ]
  },
  {
   "cell_type": "code",
   "execution_count": null,
   "metadata": {
    "ExecuteTime": {
     "end_time": "2021-05-24T22:12:04.159033Z",
     "start_time": "2021-05-24T22:11:59.894319Z"
    }
   },
   "outputs": [],
   "source": [
    "explainer = LimeTabularExplainer(X_train, # no anda con pandas...\n",
    "                                 feature_names=features_names, \n",
    "                                 class_names=['# rental bikes'], \n",
    "                                 categorical_features=categorical_features, \n",
    "                                 verbose=True, \n",
    "                                 mode='regression', \n",
    "                                 kernel_width=0.5) # <= Cuidado con este parametro, \n",
    "                                                   # sobre todo en high dimentional data\n",
    "\n",
    "i = 25\n",
    "exp = explainer.explain_instance(X_test[i], clf.predict, num_features=5)\n",
    "\n",
    "exp.show_in_notebook(show_table=True)\n"
   ]
  },
  {
   "cell_type": "markdown",
   "metadata": {
    "slideshow": {
     "slide_type": "slide"
    }
   },
   "source": [
    "**¿No hay nada que haga ruido?**\n",
    "\n",
    "La feature **yr**"
   ]
  },
  {
   "cell_type": "markdown",
   "metadata": {
    "slideshow": {
     "slide_type": "slide"
    }
   },
   "source": [
    "### Shapley values\n",
    "\n",
    "<div><img src=\"./imgs/shapley-instance.png\" width=\"40%\" style=\"float: left; margin: 10px;\" align=\"middle\">\n",
    "    \n",
    "    A prediction can be explained by assuming that each feature value of the instance is a \"player\" in a game where the prediction is the payout. Shapley values -- a method from coalitional game theory -- tells us how to fairly distribute the \"payout\" among the features.\n",
    "\n"
   ]
  },
  {
   "cell_type": "markdown",
   "metadata": {
    "slideshow": {
     "slide_type": "slide"
    }
   },
   "source": [
    "<div><img src=\"./imgs/shapley-coalitions.png\" width=\"40%\" style=\"float: left; margin: 10px;\" align=\"middle\">\n",
    "\n",
    "    For each of these coalitions we compute the predicted apartment price with and without the feature value cat-banned and take the difference to get the marginal contribution. The Shapley value is the (weighted) average of marginal contributions. "
   ]
  },
  {
   "cell_type": "markdown",
   "metadata": {},
   "source": [
    "### SHAP (SHapley Additive exPlanations)\n",
    "\n",
    "Similar al anterior, pero utilizando un modelo lineal...\n",
    "\n",
    "Hay un explainer específico para árboles que reduce la complejidad de cálculo."
   ]
  },
  {
   "cell_type": "code",
   "execution_count": null,
   "metadata": {
    "ExecuteTime": {
     "end_time": "2021-05-24T22:12:06.664963Z",
     "start_time": "2021-05-24T22:12:04.164786Z"
    }
   },
   "outputs": [],
   "source": [
    "explainer = shap.TreeExplainer(clf)\n",
    "shap_values = explainer.shap_values(X_test)"
   ]
  },
  {
   "cell_type": "code",
   "execution_count": null,
   "metadata": {
    "ExecuteTime": {
     "end_time": "2021-05-24T22:12:06.923406Z",
     "start_time": "2021-05-24T22:12:06.666678Z"
    }
   },
   "outputs": [],
   "source": [
    "# Feature importance\n",
    "shap.summary_plot(shap_values, feature_names=features_names, plot_type='bar')"
   ]
  },
  {
   "cell_type": "code",
   "execution_count": null,
   "metadata": {
    "ExecuteTime": {
     "end_time": "2021-05-24T22:12:07.758323Z",
     "start_time": "2021-05-24T22:12:06.925818Z"
    }
   },
   "outputs": [],
   "source": [
    "shap.summary_plot(shap_values, features=X_test, feature_names=features_names)"
   ]
  },
  {
   "cell_type": "code",
   "execution_count": null,
   "metadata": {
    "ExecuteTime": {
     "end_time": "2021-05-24T22:12:07.787339Z",
     "start_time": "2021-05-24T22:12:07.759965Z"
    }
   },
   "outputs": [],
   "source": [
    "shap.force_plot(explainer.expected_value,\n",
    "                shap_values[i], \n",
    "                features=X_test[i], feature_names=features_names)"
   ]
  },
  {
   "cell_type": "code",
   "execution_count": null,
   "metadata": {
    "ExecuteTime": {
     "end_time": "2021-05-24T22:12:08.144847Z",
     "start_time": "2021-05-24T22:12:07.789106Z"
    }
   },
   "outputs": [],
   "source": [
    "shap.decision_plot(explainer.expected_value,\n",
    "                   shap_values[i], \n",
    "                   features=X_test[i], feature_names=features_names)"
   ]
  },
  {
   "cell_type": "code",
   "execution_count": null,
   "metadata": {
    "ExecuteTime": {
     "end_time": "2021-05-24T22:12:08.612464Z",
     "start_time": "2021-05-24T22:12:08.147040Z"
    }
   },
   "outputs": [],
   "source": [
    "shap.dependence_plot(3, shap_values, X_test, feature_names=features_names)"
   ]
  },
  {
   "cell_type": "markdown",
   "metadata": {
    "slideshow": {
     "slide_type": "slide"
    }
   },
   "source": [
    "\n",
    "### Gracias! Preguntas?\n",
    "\n",
    "\n",
    "<div style=\"float: left;\"><img src=\"../common/imgs/man-qmark.jpg\" width=\"300\" align=\"middle\"></div> \n",
    "\n",
    "<div>\n",
    "<div>\n",
    "  <img src=\"../common/imgs/gmail-1162901_960_720.png\" style=\"width: 30px; float: left; vertical-align:middle; margin: 0px;\">\n",
    "  <span style=\"line-height:30px; vertical-align:middle; margin-left: 10px;\">arielrossanigo@gmail.com</span>\n",
    "</div>\n",
    "<div>\n",
    "  <img src=\"../common/imgs/twitter-312464_960_720.png\" style=\"width: 30px; float: left; vertical-align:middle; margin: 0px;\">\n",
    "  <span style=\"line-height:30px; vertical-align:middle; margin-left: 10px;\">@arielrossanigo</span>\n",
    "</div>\n",
    "<div>\n",
    "  <img src=\"../common/imgs/github-154769__340.png\" style=\"width: 30px; float: left; vertical-align:middle; margin: 0px;\">\n",
    "  <span style=\"line-height:30px; vertical-align:middle; margin-left: 10px;\">https://github.com/arielrossanigo</span>\n",
    "</div>\n",
    "<div>\n",
    "  <img src=\"../common/imgs/Linkedin_icon.svg\" style=\"width: 30px; float: left; vertical-align:middle; margin: 0px;\">\n",
    "  <span style=\"line-height:30px; vertical-align:middle; margin-left: 10px;\">https://www.linkedin.com/in/arielrossanigo/</span>\n",
    "</div>\n",
    "\n",
    "</div>\n"
   ]
  },
  {
   "cell_type": "markdown",
   "metadata": {
    "slideshow": {
     "slide_type": "slide"
    }
   },
   "source": [
    "\n",
    "### Algunas referencias\n",
    "\n",
    "* https://christophm.github.io/interpretable-ml-book/\n",
    "* https://github.com/slundberg/shap\n",
    "* https://eli5.readthedocs.io/en/latest/\n",
    "* https://github.com/marcotcr/lime"
   ]
  }
 ],
 "metadata": {
  "celltoolbar": "Slideshow",
  "hide_input": false,
  "kernelspec": {
   "display_name": "Python 3",
   "language": "python",
   "name": "python3"
  },
  "language_info": {
   "codemirror_mode": {
    "name": "ipython",
    "version": 3
   },
   "file_extension": ".py",
   "mimetype": "text/x-python",
   "name": "python",
   "nbconvert_exporter": "python",
   "pygments_lexer": "ipython3",
   "version": "3.8.3"
  },
  "toc": {
   "base_numbering": 1,
   "nav_menu": {},
   "number_sections": false,
   "sideBar": true,
   "skip_h1_title": false,
   "title_cell": "Table of Contents",
   "title_sidebar": "Contents",
   "toc_cell": false,
   "toc_position": {},
   "toc_section_display": true,
   "toc_window_display": false
  }
 },
 "nbformat": 4,
 "nbformat_minor": 2
}
